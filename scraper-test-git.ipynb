{
 "cells": [
  {
   "cell_type": "code",
   "execution_count": 3,
   "id": "25fb0986",
   "metadata": {},
   "outputs": [
    {
     "name": "stdout",
     "output_type": "stream",
     "text": [
      "<a href=\"index.php?type=1\">时政</a>\n",
      "<a href=\"index.php?type=2\">财经</a>\n",
      "<a href=\"index.php?type=3\">军事</a>\n",
      "<a href=\"index.php?type=4\">生活</a>\n",
      "<a href=\"index.php?type=24\">家庭</a>\n",
      "<a href=\"index.php?type=9\">娱乐</a>\n",
      "<a href=\"index.php?type=7\">体坛</a>\n",
      "<a href=\"index.php?type=8\">历史</a>\n",
      "<a href=\"index.php?type=6\">科技</a>\n",
      "<a href=\"index.php?type=16\">摄影</a>\n",
      "<a href=\"index.php?type=17\">旅游</a>\n",
      "<a href=\"index.php?type=18\">文化</a>\n",
      "<a href=\"index.php?type=13\">移民</a>\n",
      "<a href=\"index.php?type=14\">教育</a>\n",
      "<a href=\"index.php?type=15\">就业</a>\n",
      "<a href=\"index.php?type=25\">数码</a>\n",
      "<a href=\"index.php?type=20\">健康</a>\n",
      "<a href=\"index.php?type=5\">奇闻</a>\n",
      "<a href=\"index.php?type=200\">社区</a>\n",
      "<a href=\"index.php?type=10\">评论</a>\n",
      "<a href=\"index.php?type=100\">问卷</a>\n",
      "<a href=\"https://www.6park.com/index.php\">留园网首页</a>\n",
      "<a href=\"index.php\">新闻速递首页</a>\n",
      "<a id=\"StranLink\" name=\"StranLink\">【繁體閱讀】</a>\n",
      "<a href=\"index.php?act=newsreply&amp;nid=673577\">【网友评论:1 条】</a>\n",
      "<a href=\"index.php?act=hotreply\" target=\"_blank\">【 热评新闻排行 】</a>\n",
      "<a href=\"index.php?act=hotview\" target=\"_blank\">【 热门新闻排行 】</a>\n",
      "<a href=\"index.php?act=longview\" target=\"_blank\">【 即刻热度新闻排行 】</a>\n",
      "<a href=\"index.php?app=news&amp;act=replyhotvote&amp;page=1\" target=\"_blank\">【 72小时神评妙论 】</a>\n",
      "<a name=\"postfp\"></a>\n",
      "<a class=\"reply_link_img\" href=\"index.php?act=newsreply&amp;nid=673577\"><span>1 条</span></a>\n",
      "<a href=\"https://home.6park.com/index.php?app=gift&amp;act=showinvite&amp;dbname=news&amp;tid=673577&amp;cid=5792101&amp;action=view&amp;weburl=https%3A%2F%2Fwww.6parknews.com%2Fnewspark%2Fview.php%3Fapp%3Dnews%26act%3Dview%26nid%3D673577&amp;subject=%E8%83%A1%E6%AD%8C%E5%A4%AB%E5%A6%87%E5%90%88%E4%BD%93%E5%87%BA%E5%B8%AD%E8%81%9A%E4%BC%9A+%E5%B0%8F11%E5%B2%81%E9%BB%84%E6%9B%A6%E5%AE%81%E7%83%AD%E6%83%85%E6%B4%BB%E6%B3%BC\" target=\"blank\"><img src=\"./public/img/yqpl.png\"/></a>\n",
      "<a href=\"index.php?act=newsreply&amp;nid=673577#poppin\">当前热评</a>\n",
      "<a href=\"index.php?act=newsreply&amp;nid=673577\">更多评论...</a>\n",
      "<a href=\"https://home.6park.com/index.php?app=home&amp;act=chatnew&amp;uname=NTIyNDYzNTc%3D\" target=\"_blank\">大秦帝国111</a>\n",
      "<a href=\"https://www.6parkbbs.com/index.php?act=bloghome&amp;uname=NTIyNDYzNTc%3D\" target=\"_blank\">个人频道</a>\n",
      "<a href=\"https://home.6park.com/index.php?app=home&amp;act=action&amp;uid=52246357\" target=\"_blank\">个人动态</a>\n",
      "<a href=\"index.php?act=newsreply&amp;nid=673577&amp;rid=15367798\">回复</a>\n",
      "<a href=\"javascript:void(0)\" onclick=\"dolike(15367798)\"><img src=\"./public/img/like.png\"/><span id=\"rlike_15367798\">2</span></a>\n",
      "<a href=\"javascript:void(0)\" onclick=\"dislike(15367798)\"><img class=\"dislike\" src=\"./public/img/like.png\"/><span id=\"rdislike_15367798\"></span></a>\n",
      "<a href=\"index.php?act=newsreply&amp;nid=673577\">》》查 看 所 有 评 论《《</a>\n",
      "<a href=\"index.php\">新闻速递首页</a>\n",
      "<a href=\"index.php?act=hotview\">近期热门新闻</a>\n",
      "<a href=\"index.php?act=hotreply\">近期热评新闻</a>\n",
      "<a href=\"index.php?app=news&amp;act=replyhotvote&amp;page=1\">72小时神评妙论</a>\n",
      "<a href=\"index.php?act=longview\">即刻热度新闻排行</a>\n",
      "<a href=\"https://club.6parkbbs.com/enter8/index.php\">娱乐八卦</a>\n",
      "<a href=\"https://club.6parkbbs.com/chan10/index.php\">女性频道</a>\n",
      "<a href=\"view.php?app=news&amp;act=view&amp;nid=672510\"> ◎ 胡歌、周迅白玉兰“二封”,现场明星微表情意味深长(图)</a>\n",
      "<a href=\"view.php?app=news&amp;act=view&amp;nid=673554\"> ◎ 黄一鸣曝女儿“能挣1个亿”!王思聪处境尴尬(组图)</a>\n",
      "<a href=\"view.php?app=news&amp;act=view&amp;nid=673534\"> ◎ 华为说到做到:激光雷达价格从1万多打到200美元(组图)</a>\n",
      "<a href=\"view.php?app=news&amp;act=view&amp;nid=673525\"> ◎ 28岁高颜值女子欠600万债务,被湖北法院公开悬赏(图)</a>\n",
      "<a href=\"view.php?app=news&amp;act=view&amp;nid=673498\"> ◎ 中美电子战机12小时大战:菲律宾北部GPS信号中断(组图)</a>\n",
      "<a href=\"index.php\">新闻速递首页</a>\n",
      "<a href=\"https://www.6park.com/pub/top/ycpost.php\">向留园新闻区投稿</a>\n",
      "<a href=\"https://www.6park.com/page/localnews.php\" target=\"_blank\">本地新闻</a>\n",
      "<a href=\"javascript:history.go(-1)\">返回前页</a>\n",
      "<a href=\"https://www.6parkbbs.com/index.php\"> 留园手机网页版 </a>\n",
      "<a href=\"https://home.6park.com/client/\">  留园手机客户端  </a>\n",
      "<a href=\"https://www.6park.com/parks/claim.htm#term\">  留园条例  </a>\n",
      "<a href=\"https://www.6park.com/service.htm\">  广告服务  </a>\n",
      "<a href=\"https://www.6park.com/contact/con2.htm\">  联系我们  </a>\n",
      "<a href=\"https://home.6park.com/index.php\">  个人帐户  </a>\n"
     ]
    }
   ],
   "source": [
    "from urllib.request import urlopen\n",
    "from bs4 import BeautifulSoup\n",
    "\n",
    "html = urlopen(\"https://www.6parknews.com/newspark/view.php?app=news&act=view&nid=673577\")\n",
    "\n",
    "bs = BeautifulSoup(html.read(), 'html.parser')\n",
    "\n",
    "lists = bs.find_all('a')\n",
    "for list in lists:\n",
    "    print(list)"
   ]
  }
 ],
 "metadata": {
  "kernelspec": {
   "display_name": "Python 3 (ipykernel)",
   "language": "python",
   "name": "python3"
  },
  "language_info": {
   "codemirror_mode": {
    "name": "ipython",
    "version": 3
   },
   "file_extension": ".py",
   "mimetype": "text/x-python",
   "name": "python",
   "nbconvert_exporter": "python",
   "pygments_lexer": "ipython3",
   "version": "3.11.5"
  }
 },
 "nbformat": 4,
 "nbformat_minor": 5
}
